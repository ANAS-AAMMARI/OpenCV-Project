{
 "cells": [
  {
   "cell_type": "markdown",
   "id": "610e0641",
   "metadata": {},
   "source": [
    "# import necessary package"
   ]
  },
  {
   "cell_type": "code",
   "execution_count": 2,
   "id": "822b6770",
   "metadata": {},
   "outputs": [],
   "source": [
    "#!pip install opencv-python\n",
    "import cv2\n",
    "import numpy as np\n",
    "from math import sqrt"
   ]
  },
  {
   "cell_type": "markdown",
   "id": "d6fe2817",
   "metadata": {},
   "source": [
    "# functions helper"
   ]
  },
  {
   "cell_type": "code",
   "execution_count": 3,
   "id": "5fbc05d5",
   "metadata": {},
   "outputs": [],
   "source": [
    "# find distance between two points\n",
    "def distance(x1, y1, x2, y2):\n",
    "    return sqrt((x2 - x1)**2 + (y2 - y1)**2)\n",
    "# calcule centre \n",
    "def centre(x1, y1, x2, y2):\n",
    "    cx = x1 + (x2 - x1) // 2\n",
    "    cy = y1 + (y2 - y1) // 2\n",
    "    return(cx, cy)"
   ]
  },
  {
   "cell_type": "markdown",
   "id": "3c7b1e39",
   "metadata": {},
   "source": [
    "# detection and distination"
   ]
  },
  {
   "cell_type": "code",
   "execution_count": 4,
   "id": "ca47ffad",
   "metadata": {},
   "outputs": [
    {
     "name": "stdout",
     "output_type": "stream",
     "text": [
      "entrer distance: 40\n"
     ]
    }
   ],
   "source": [
    "cap = cv2.VideoCapture(\"vid.avi\")\n",
    "body = cv2.CascadeClassifier(\"./haar/haarcascade_fullbody.xml\")\n",
    "ds = float(input(\"entrer distance: \"))\n",
    "while(cap.isOpened()):\n",
    "    ret, frame = cap.read()\n",
    "    if ret == True:\n",
    "        bd = body.detectMultiScale(frame, 1.2, 5)\n",
    "        for (x, y, w, h) in bd:\n",
    "            for(x1, y1, w1, h1) in bd:\n",
    "                if x != x1 and y != y1:\n",
    "                    c1 = centre(x, y, w, h)\n",
    "                    c2 = centre(x1, y1, w1, h1)\n",
    "                    dis = distance(c1[0], c1[1], c2[0], c2[1])  \n",
    "                    if dis < ds:\n",
    "                        cv2.rectangle(frame, (x, y), (x + w, y + h),(0, 0, 255), 4)\n",
    "                    else:\n",
    "                        cv2.rectangle(frame, (x, y), (x + w, y + h),(255, 0, 0), 4)\n",
    "        cv2.imshow(\"Walking frame\", frame)\n",
    "        if cv2.waitKey(2) == 27:\n",
    "            break\n",
    "    else:\n",
    "        break\n",
    "else:\n",
    "    print(\"Error opening video  file\")\n",
    "cv2.destroyAllWindows()\n",
    "cap.release()"
   ]
  },
  {
   "cell_type": "code",
   "execution_count": null,
   "id": "d57589f3",
   "metadata": {},
   "outputs": [],
   "source": []
  }
 ],
 "metadata": {
  "kernelspec": {
   "display_name": "Python 3 (ipykernel)",
   "language": "python",
   "name": "python3"
  },
  "language_info": {
   "codemirror_mode": {
    "name": "ipython",
    "version": 3
   },
   "file_extension": ".py",
   "mimetype": "text/x-python",
   "name": "python",
   "nbconvert_exporter": "python",
   "pygments_lexer": "ipython3",
   "version": "3.9.7"
  }
 },
 "nbformat": 4,
 "nbformat_minor": 5
}
